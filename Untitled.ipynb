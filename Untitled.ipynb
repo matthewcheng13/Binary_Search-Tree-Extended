{
 "cells": [
  {
   "cell_type": "code",
   "execution_count": 30,
   "metadata": {},
   "outputs": [
    {
     "name": "stdout",
     "output_type": "stream",
     "text": [
      "Enter text string to be encoded: aaaabbbbcdefghhhh\n",
      "{'a': 4, 'b': 4, 'c': 1, 'd': 1, 'e': 1, 'f': 1, 'g': 1, 'h': 4}\n",
      "[['c'], ['d'], ['f'], ['b'], ['e'], ['a'], ['g'], ['h']]\n",
      "{'b': '0', 'a': '100', 'g': '1010', 'f': '1011', 'e': '1100', 'c': '11010', 'd': '11011', 'h': '111'}\n"
     ]
    }
   ],
   "source": [
    "class Minimum_Heap:\n",
    "\n",
    "    class Huffman_Tree:\n",
    "        \n",
    "        class __Huffman_Node:\n",
    "            \n",
    "            def __init__(self,value,freq):\n",
    "                self.value = value\n",
    "                self.frequency = freq\n",
    "                self.left_child = None\n",
    "                self.right_child = None\n",
    "\n",
    "        def __init__(self):\n",
    "            self.root = Minimum_Heap.Huffman_Tree.__Huffman_Node(None,0)\n",
    "            \n",
    "        def insert_children(self,left_node,right_node):\n",
    "            self.root.left_child = left_node\n",
    "            self.root.right_child = right_node\n",
    "            \n",
    "        def set_root(self,value,freq):\n",
    "            self.root.value = value\n",
    "            self.root.frequency = freq\n",
    "            \n",
    "    def __init__(self):\n",
    "        self.__array = []\n",
    "\n",
    "    def __order_bottom(self,index):\n",
    "        if index == 0:\n",
    "            return\n",
    "        if index%2 == 0:\n",
    "            if self.__array[index].root.frequency < self.__array[int((index-2)/2)].root.frequency:\n",
    "                temp = self.__array[index]\n",
    "                self.__array[index] = self.__array[int((index-2)/2)]\n",
    "                self.__array[int((index-2)/2)] = temp\n",
    "                self.__order_bottom(int((index-2)/2))\n",
    "        elif index%2 == 1:\n",
    "            if self.__array[index].root.frequency < self.__array[int((index-1)/2)].root.frequency:\n",
    "                temp = self.__array[index]\n",
    "                self.__array[index] = self.__array[int((index-1)/2)]\n",
    "                self.__array[int((index-1)/2)] = temp\n",
    "                self.__order_bottom(int((index-1)/2))\n",
    "                \n",
    "    def __order_top(self,index):\n",
    "        if len(self)%2 == 1:\n",
    "            if len(self.__array)-1>(index*2)+1:\n",
    "                if self.__array[index].root.frequency > self.__array[((index*2)+1)].root.frequency:\n",
    "                    temp = self.__array[index]\n",
    "                    self.__array[index] = self.__array[(index*2)+1]\n",
    "                    self.__array[(index*2)+1] = temp\n",
    "                    self.__order_top((index*2)+1)\n",
    "        else:\n",
    "            if len(self.__array)-1>(index*2)+2:\n",
    "                if self.__array[(index*2)+1].root.frequency > self.__array[(index*2)+2].root.frequency:\n",
    "                    if self.__array[index].root.frequency > self.__array[((index*2)+2)].root.frequency:\n",
    "                        temp = self.__array[index]\n",
    "                        self.__array[index] = self.__array[(index*2)+2]\n",
    "                        self.__array[(index*2)+2] = temp\n",
    "                        self.__order_top((index*2)+2)\n",
    "                else:\n",
    "                    if self.__array[index].root.frequency > self.__array[((index*2)+1)].root.frequency:\n",
    "                        temp = self.__array[index]\n",
    "                        self.__array[index] = self.__array[(index*2)+1]\n",
    "                        self.__array[(index*2)+1] = temp\n",
    "                        self.__order_top((index*2)+1)\n",
    "        \n",
    "\n",
    "    def insert_element(self,tree):\n",
    "        self.__array += [tree]\n",
    "        self.__order_bottom(len(self.__array)-1)\n",
    "        \n",
    "    def remove_element(self):\n",
    "        to_return = self.__array[0]\n",
    "        self.__array[0] = self.__array[len(self.__array)-1]\n",
    "        self.__array = self.__array[:-1]\n",
    "        self.__order_top(0)\n",
    "        return to_return\n",
    "        \n",
    "    def __len__(self):\n",
    "        return len(self.__array)\n",
    "    \n",
    "    def __rstr(self,array,node):\n",
    "        if (node.left_child == None) and (node.right_child == None):\n",
    "            array += [node.value]\n",
    "        elif node.left_child == None:\n",
    "            self.__rstr(array,node.right_child)\n",
    "            array += [node.value]\n",
    "        elif node.right_child == None:\n",
    "            self.__rstr(array,node.left_child)\n",
    "            array += [node.value]\n",
    "        else:\n",
    "            self.__rstr(array,node.left_child)\n",
    "            self.__rstr(array,node.right_child)\n",
    "            array += [node.value]\n",
    "        \n",
    "    def __str__(self):\n",
    "        to_return = []\n",
    "        for i in self.__array:\n",
    "            if i.root.value == None:\n",
    "                return []\n",
    "            else:\n",
    "                array = []\n",
    "                self.__rstr(array,i.root)\n",
    "                to_return += [array]\n",
    "        return str(to_return)\n",
    "    \n",
    "    def __rencode(self,string,node,dictionary):\n",
    "        if (node.left_child == None) and (node.right_child == None):\n",
    "            dictionary[node.value] = string\n",
    "            return\n",
    "        elif node.left_child == None:\n",
    "            self.__rencode(string + '1',node.right_child)\n",
    "        elif node.right_child == None:\n",
    "            self.__rencode(string + '0',node.left_child)\n",
    "        else:\n",
    "            self.__rencode(string + '0',node.left_child,dictionary)\n",
    "            self.__rencode(string + '1',node.right_child,dictionary)\n",
    "        \n",
    "    def encode(self):\n",
    "        dictionary = dict()\n",
    "        string = ''\n",
    "        self.__rencode(string,self.__array[0].root,dictionary)\n",
    "        return str(dictionary)\n",
    "    \n",
    "    \n",
    "if __name__ == '__main__':\n",
    "    text = input('Enter text string to be encoded: ')\n",
    "    text = text.lower()\n",
    "    \n",
    "    to_encode = {}\n",
    "    for i in text:\n",
    "        if i in to_encode:\n",
    "            to_encode[i] += 1\n",
    "        else:\n",
    "            to_encode[i] = 1\n",
    "            \n",
    "    print(to_encode)\n",
    "            \n",
    "    heap = Minimum_Heap()\n",
    "    \n",
    "    for i in to_encode:\n",
    "        huffman = heap.Huffman_Tree()\n",
    "        huffman.set_root(i,to_encode[i])\n",
    "        heap.insert_element(huffman)\n",
    "        \n",
    "    print(heap)\n",
    "    \n",
    "    while len(heap) > 1:\n",
    "        first = heap.remove_element()\n",
    "        second = heap.remove_element()\n",
    "        total_freq = first.root.frequency + second.root.frequency\n",
    "        huffman = Minimum_Heap.Huffman_Tree()\n",
    "        huffman.set_root(None,total_freq)\n",
    "        huffman.insert_children(first.root,second.root)\n",
    "        heap.insert_element(huffman)\n",
    "        \n",
    "    print(heap.encode())\n",
    "        \n",
    "    \n",
    "    "
   ]
  },
  {
   "cell_type": "code",
   "execution_count": 31,
   "metadata": {},
   "outputs": [],
   "source": [
    "listx = []"
   ]
  },
  {
   "cell_type": "code",
   "execution_count": 34,
   "metadata": {},
   "outputs": [
    {
     "data": {
      "text/plain": [
       "[5]"
      ]
     },
     "execution_count": 34,
     "metadata": {},
     "output_type": "execute_result"
    }
   ],
   "source": [
    "listx = listx + [5]\n",
    "listx"
   ]
  },
  {
   "cell_type": "code",
   "execution_count": 35,
   "metadata": {},
   "outputs": [],
   "source": [
    "listx += [6]"
   ]
  },
  {
   "cell_type": "code",
   "execution_count": 36,
   "metadata": {},
   "outputs": [
    {
     "data": {
      "text/plain": [
       "[5, 6]"
      ]
     },
     "execution_count": 36,
     "metadata": {},
     "output_type": "execute_result"
    }
   ],
   "source": [
    "listx"
   ]
  },
  {
   "cell_type": "code",
   "execution_count": 1,
   "metadata": {},
   "outputs": [],
   "source": [
    "class Binary_Search_Tree:\n",
    "    # TODO.I have provided the public method skeletons. You will need\n",
    "    # to add private methods to support the recursive algorithms\n",
    "    # discussed in class\n",
    "\n",
    "    class __BST_Node:\n",
    "        # TODO The Node class is private. You may add any attributes and\n",
    "        # methods you need. Recall that attributes in an inner class \n",
    "        # must be public to be reachable from the the methods.\n",
    "\n",
    "        def __init__(self, value):\n",
    "            self.value = value\n",
    "            # TODO complete Node initialization\n",
    "            self.height = 1\n",
    "            self.left_child = None\n",
    "            self.right_child = None\n",
    "\n",
    "    def __init__(self):\n",
    "        self.__root = None\n",
    "        # TODO complete initialization\n",
    "\n",
    "    def __set_height(self,node):\n",
    "        # case of no children always has a height of 1\n",
    "        if (node.left_child == None) and (node.right_child == None):\n",
    "            return 1\n",
    "        # if there is no left child, right's height + 1 must be used\n",
    "        elif node.left_child == None:\n",
    "            return node.right_child.height + 1\n",
    "        # if there is no right child, left's height + 1 must be used\n",
    "        elif node.right_child == None:\n",
    "            return node.left_child.height + 1\n",
    "        # either left child is taller or right child's height is greater than or equal to left child's height\n",
    "        else:\n",
    "            if node.left_child.height > node.right_child.height:\n",
    "                return node.left_child.height + 1\n",
    "            else:\n",
    "                return node.right_child.height + 1\n",
    "            \n",
    "    def __get_node_height(self,node):\n",
    "            if node == None:\n",
    "                return 0\n",
    "            else:\n",
    "                return node.height\n",
    "            \n",
    "    def __rotation(self,t,right):\n",
    "        # perform rotation on a right-leaning tree\n",
    "        if right:\n",
    "            new_t = t.right_child\n",
    "            floater = new_t.left_child\n",
    "            new_t.left_child = t\n",
    "            t.right_child = floater\n",
    "            t.height = self.__set_height(t)\n",
    "            new_t.height = self.__set_height(new_t)\n",
    "            return new_t\n",
    "        # perform rotation on a left-leaning tree\n",
    "        else:\n",
    "            new_t = t.left_child\n",
    "            floater = new_t.right_child\n",
    "            new_t.right_child = t\n",
    "            t.left_child = floater\n",
    "            t.height = self.__set_height(t)\n",
    "            new_t.height = self.__set_height(new_t)\n",
    "            return new_t\n",
    "\n",
    "    def __balance(self,t):\n",
    "        # set the current balance\n",
    "        balance = self.__get_node_height(t.right_child) - self.__get_node_height(t.left_child)\n",
    "        # if unbalanced, perform the necessary rotations\n",
    "        # then return the new root of the subtree\n",
    "        if balance == 2:\n",
    "            if self.__get_node_height(t.right_child.right_child) - self.__get_node_height(t.right_child.left_child) == 1:\n",
    "                return self.__rotation(t,True)\n",
    "            else:\n",
    "                t.right_child = self.__rotation(t.right_child,False)\n",
    "                return self.__rotation(t,True)\n",
    "        elif balance == -2:\n",
    "            if self.__get_node_height(t.left_child.right_child) - self.__get_node_height(t.left_child.left_child) == 1:\n",
    "                t.left_child = self.__rotation(t.left_child,True)\n",
    "                return self.__rotation(t,False)\n",
    "            else:\n",
    "                return self.__rotation(t,False)\n",
    "        # if balanced, return original root of the subtree\n",
    "        else:\n",
    "            return t\n",
    "\n",
    "    def __rins(self,value,node):\n",
    "        # base case\n",
    "        if node == None:\n",
    "            new_node = Binary_Search_Tree.__BST_Node(value)\n",
    "            return new_node\n",
    "        # recursive case\n",
    "        else:\n",
    "            if node.value == value:\n",
    "                raise ValueError\n",
    "            elif node.value > value:\n",
    "                node.left_child = self.__rins(value,node.left_child)\n",
    "                node.height = self.__set_height(node)\n",
    "            else:\n",
    "                node.right_child = self.__rins(value,node.right_child)\n",
    "                node.height = self.__set_height(node)\n",
    "            return self.__balance(node)\n",
    "\n",
    "    def insert_element(self, value):\n",
    "        # Insert the value specified into the tree at the correct\n",
    "        # location based on \"less is left; greater is right\" binary\n",
    "        # search tree ordering. If the value is already contained in\n",
    "        # the tree, raise a ValueError. Your solution must be recursive.\n",
    "        # This will involve the introduction of additional private\n",
    "        # methods to support the recursion control variable.\n",
    "        # TODO replace pass with your implementation\n",
    "        self.__root = self.__rins(value,self.__root)\n",
    "\n",
    "    def __rrem(self,value,node):\n",
    "        # if the node does not exist in the tree\n",
    "        if node == None:\n",
    "            raise ValueError\n",
    "        # base case\n",
    "        if node.value == value:\n",
    "            if node.left_child == None:\n",
    "                return node.right_child\n",
    "            elif node.right_child == None:\n",
    "                return node.left_child\n",
    "            else:\n",
    "                cur = node.right_child\n",
    "                while cur.left_child != None:\n",
    "                    cur = cur.left_child\n",
    "                node.value = cur.value\n",
    "                node.right_child = self.__rrem(cur.value,node.right_child)\n",
    "                return node\n",
    "        # recursive cases\n",
    "        elif node.value > value:\n",
    "            node.left_child = self.__rrem(value,node.left_child)\n",
    "            node.height = self.__set_height(node)\n",
    "        else:\n",
    "            node.right_child = self.__rrem(value,node.right_child)\n",
    "            node.height = self.__set_height(node)\n",
    "        return self.__balance(node)\n",
    "\n",
    "    def remove_element(self, value):\n",
    "        # Remove the value specified from the tree, raising a ValueError\n",
    "        # if the value isn't found. When a replacement value is necessary,\n",
    "        # select the minimum value to the from the right as this element's\n",
    "        # replacement. Take note of when to move a node reference and when\n",
    "        # to replace the value in a node instead. It is not necessary to\n",
    "        # return the value (though it would reasonable to do so in some \n",
    "        # implementations). Your solution must be recursive. \n",
    "        # This will involve the introduction of additional private\n",
    "        # methods to support the recursion control variable.\n",
    "        # TODO replace pass with your implementation\n",
    "        self.__root = self.__rrem(value,self.__root)\n",
    "\n",
    "    def __rin_order(self,node):\n",
    "        # performs string concatenation for each node\n",
    "        # conditionals check if one or both children are missing and\n",
    "        # returns the values that are present, with the parent's value\n",
    "        # being in between left and right\n",
    "        if (node.left_child == None) and (node.right_child == None):\n",
    "            return str(node.value)\n",
    "        elif node.left_child == None:\n",
    "            right = self.__rin_order(node.right_child)\n",
    "            return str(node.value) + ', ' + right\n",
    "        elif node.right_child == None:\n",
    "            left = self.__rin_order(node.left_child)\n",
    "            return left + ', ' + str(node.value)\n",
    "        else:\n",
    "            left = self.__rin_order(node.left_child)\n",
    "            right = self.__rin_order(node.right_child)\n",
    "            return left + ', ' + str(node.value) + ', ' + right\n",
    "\n",
    "    def in_order(self):\n",
    "        # Construct and return a string representing the in-order\n",
    "        # traversal of the tree. Empty trees should be printed as [ ].\n",
    "        # Trees with one value should be printed as [ 4 ]. Trees with more\n",
    "        # than one value should be printed as [ 4, 7 ]. Note the spacing.\n",
    "        # Your solution must be recursive. This will involve the introduction\n",
    "        # of additional private methods to support the recursion control \n",
    "        # variable.\n",
    "        # TODO replace pass with your implementation\n",
    "        # left node right\n",
    "        if self.get_height() == 0:\n",
    "            return '[ ]'\n",
    "        else:\n",
    "            return '[ ' + self.__rin_order(self.__root) + ' ]'\n",
    "\n",
    "    def __rto_list(self,return_list,node):\n",
    "        if (node.left_child == None) and (node.right_child == None):\n",
    "            return_list += [str(node.value)]\n",
    "        elif node.left_child == None:\n",
    "            return_list += [str(node.value)]\n",
    "            self.__rto_list(return_list,node.right_child)\n",
    "        elif node.right_child == None:\n",
    "            self.__rto_list(return_list,node.left_child)\n",
    "            return_list += [str(node.value)]\n",
    "        else:\n",
    "            self.__rto_list(return_list,node.left_child)\n",
    "            return_list += [str(node.value)] \n",
    "            self.__rto_list(return_list,node.right_child)\n",
    "\n",
    "    def to_list(self):\n",
    "        to_return = []\n",
    "        if self.get_height() == 0:\n",
    "            return []\n",
    "        self.__rto_list(to_return,self.__root)\n",
    "        return to_return\n",
    "\n",
    "\n",
    "    def __rpre_order(self,node):\n",
    "        # performs string concatenation for each node\n",
    "        # conditionals check if one or both children are missing and\n",
    "        # returns the values that are present, with the parent's value first\n",
    "        if (node.left_child == None) and (node.right_child == None):\n",
    "            return str(node.value)\n",
    "        elif node.left_child == None:\n",
    "            right = self.__rpre_order(node.right_child)\n",
    "            return str(node.value) + ', ' + right\n",
    "        elif node.right_child == None:\n",
    "            left = self.__rpre_order(node.left_child)\n",
    "            return str(node.value) + ', ' + left\n",
    "        else:\n",
    "            left = self.__rpre_order(node.left_child)\n",
    "            right = self.__rpre_order(node.right_child)\n",
    "            return str(node.value) + ', ' + left + ', ' + right\n",
    "\n",
    "    def pre_order(self):\n",
    "        # Construct and return a string representing the pre-order\n",
    "        # traversal of the tree. Empty trees should be printed as [ ].\n",
    "        # Trees with one value should be printed in as [ 4 ]. Trees with\n",
    "        # more than one value should be printed as [ 4, 7 ]. Note the spacing.\n",
    "        # Your solution must be recursive. This will involve the introduction\n",
    "        # of additional private methods to support the recursion control \n",
    "        # variable.\n",
    "        # TODO replace pass with your implementation\n",
    "        # node left right\n",
    "        if self.get_height() == 0:\n",
    "            return '[ ]'\n",
    "        else:\n",
    "            return '[ ' + self.__rpre_order(self.__root) + ' ]'\n",
    "\n",
    "    def __rpost_order(self,node):\n",
    "        # performs string concatenation for each node\n",
    "        # conditionals check if one or both children are missing and\n",
    "        # returns the values that are present, with the parent's value last\n",
    "        if (node.left_child == None) and (node.right_child == None):\n",
    "            return str(node.value)\n",
    "        elif node.left_child == None:\n",
    "            right = self.__rpost_order(node.right_child)\n",
    "            return right + ', ' + str(node.value)\n",
    "        elif node.right_child == None:\n",
    "            left = self.__rpost_order(node.left_child)\n",
    "            return left + ', ' + str(node.value)\n",
    "        else:\n",
    "            left = self.__rpost_order(node.left_child)\n",
    "            right = self.__rpost_order(node.right_child)\n",
    "            return left + ', ' + right + ', ' + str(node.value)\n",
    "\n",
    "    def post_order(self):\n",
    "        # Construct an return a string representing the post-order\n",
    "        # traversal of the tree. Empty trees should be printed as [ ].\n",
    "        # Trees with one value should be printed in as [ 4 ]. Trees with\n",
    "        # more than one value should be printed as [ 4, 7 ]. Note the spacing.\n",
    "        # Your solution must be recursive. This will involve the introduction\n",
    "        # of additional private methods to support the recursion control \n",
    "        # variable.\n",
    "        # TODO replace pass with your implementation\n",
    "        # left right node\n",
    "        if self.get_height() == 0:\n",
    "            return '[ ]'\n",
    "        else:\n",
    "            return '[ ' + self.__rpost_order(self.__root) + ' ]'\n",
    "\n",
    "    def get_height(self):\n",
    "        # return an integer that represents the height of the tree.\n",
    "        # assume that an empty tree has height 0 and a tree with one\n",
    "        # node has height 1. This method must operate in constant time.\n",
    "        # TODO replace pass with your implementation\n",
    "        if self.__root == None:\n",
    "            height = 0\n",
    "        else:\n",
    "            height = self.__root.height\n",
    "        return height\n",
    "\n",
    "    def __str__(self):\n",
    "        return self.in_order()"
   ]
  },
  {
   "cell_type": "code",
   "execution_count": 2,
   "metadata": {},
   "outputs": [],
   "source": [
    "tree = Binary_Search_Tree()"
   ]
  },
  {
   "cell_type": "code",
   "execution_count": 3,
   "metadata": {},
   "outputs": [],
   "source": [
    "tree.insert_element(4)"
   ]
  },
  {
   "cell_type": "code",
   "execution_count": 4,
   "metadata": {},
   "outputs": [],
   "source": [
    "tree.insert_element(5)"
   ]
  },
  {
   "cell_type": "code",
   "execution_count": 5,
   "metadata": {},
   "outputs": [
    {
     "name": "stdout",
     "output_type": "stream",
     "text": [
      "[ 4, 5 ] [ 4, 5 ] [ 5, 4 ]\n"
     ]
    }
   ],
   "source": [
    "print(tree.in_order(),tree.pre_order(),tree.post_order())"
   ]
  },
  {
   "cell_type": "code",
   "execution_count": 6,
   "metadata": {},
   "outputs": [],
   "source": [
    "tree.insert_element(7)"
   ]
  },
  {
   "cell_type": "code",
   "execution_count": 7,
   "metadata": {},
   "outputs": [
    {
     "name": "stdout",
     "output_type": "stream",
     "text": [
      "[ 4, 5, 7 ] [ 5, 4, 7 ] [ 4, 7, 5 ]\n"
     ]
    }
   ],
   "source": [
    "print(tree.in_order(),tree.pre_order(),tree.post_order())"
   ]
  },
  {
   "cell_type": "code",
   "execution_count": 8,
   "metadata": {},
   "outputs": [],
   "source": [
    "tree.insert_element(6)"
   ]
  },
  {
   "cell_type": "code",
   "execution_count": 9,
   "metadata": {},
   "outputs": [
    {
     "name": "stdout",
     "output_type": "stream",
     "text": [
      "[ 4, 5, 6, 7 ] [ 5, 4, 7, 6 ] [ 4, 6, 7, 5 ]\n"
     ]
    }
   ],
   "source": [
    "print(tree.in_order(),tree.pre_order(),tree.post_order())"
   ]
  },
  {
   "cell_type": "code",
   "execution_count": 10,
   "metadata": {},
   "outputs": [],
   "source": [
    "tree.insert_element(8)"
   ]
  },
  {
   "cell_type": "code",
   "execution_count": 11,
   "metadata": {},
   "outputs": [
    {
     "name": "stdout",
     "output_type": "stream",
     "text": [
      "[ 4, 5, 6, 7, 8 ] [ 5, 4, 7, 6, 8 ] [ 4, 6, 8, 7, 5 ]\n"
     ]
    }
   ],
   "source": [
    "print(tree.in_order(),tree.pre_order(),tree.post_order())"
   ]
  },
  {
   "cell_type": "code",
   "execution_count": 12,
   "metadata": {},
   "outputs": [],
   "source": [
    "tree.remove_element(4)"
   ]
  },
  {
   "cell_type": "code",
   "execution_count": null,
   "metadata": {},
   "outputs": [],
   "source": []
  },
  {
   "cell_type": "code",
   "execution_count": 17,
   "metadata": {},
   "outputs": [
    {
     "data": {
      "text/plain": [
       "7"
      ]
     },
     "execution_count": 17,
     "metadata": {},
     "output_type": "execute_result"
    }
   ],
   "source": [
    "76%23"
   ]
  },
  {
   "cell_type": "code",
   "execution_count": 18,
   "metadata": {},
   "outputs": [
    {
     "data": {
      "text/plain": [
       "7"
      ]
     },
     "execution_count": 18,
     "metadata": {},
     "output_type": "execute_result"
    }
   ],
   "source": [
    "53%23"
   ]
  },
  {
   "cell_type": "code",
   "execution_count": 19,
   "metadata": {},
   "outputs": [
    {
     "data": {
      "text/plain": [
       "7"
      ]
     },
     "execution_count": 19,
     "metadata": {},
     "output_type": "execute_result"
    }
   ],
   "source": [
    "99%23"
   ]
  },
  {
   "cell_type": "code",
   "execution_count": 20,
   "metadata": {},
   "outputs": [
    {
     "data": {
      "text/plain": [
       "14"
      ]
     },
     "execution_count": 20,
     "metadata": {},
     "output_type": "execute_result"
    }
   ],
   "source": [
    "60%23"
   ]
  },
  {
   "cell_type": "code",
   "execution_count": 21,
   "metadata": {},
   "outputs": [
    {
     "data": {
      "text/plain": [
       "13"
      ]
     },
     "execution_count": 21,
     "metadata": {},
     "output_type": "execute_result"
    }
   ],
   "source": [
    "174 % 23"
   ]
  },
  {
   "cell_type": "code",
   "execution_count": 22,
   "metadata": {},
   "outputs": [
    {
     "data": {
      "text/plain": [
       "6"
      ]
     },
     "execution_count": 22,
     "metadata": {},
     "output_type": "execute_result"
    }
   ],
   "source": [
    "190 % 23"
   ]
  },
  {
   "cell_type": "code",
   "execution_count": 23,
   "metadata": {},
   "outputs": [
    {
     "data": {
      "text/plain": [
       "8"
      ]
     },
     "execution_count": 23,
     "metadata": {},
     "output_type": "execute_result"
    }
   ],
   "source": [
    "146 % 23"
   ]
  },
  {
   "cell_type": "code",
   "execution_count": 31,
   "metadata": {},
   "outputs": [],
   "source": [
    "a = [1,2,3,4,5,6]\n",
    "b = [7,8,9,10,11,12]"
   ]
  },
  {
   "cell_type": "code",
   "execution_count": 32,
   "metadata": {},
   "outputs": [
    {
     "data": {
      "text/plain": [
       "[1, 2, 3, 4, 5, 6, 7, 8, 9, 10, 11, 12]"
      ]
     },
     "execution_count": 32,
     "metadata": {},
     "output_type": "execute_result"
    }
   ],
   "source": [
    "a + b"
   ]
  },
  {
   "cell_type": "code",
   "execution_count": 33,
   "metadata": {},
   "outputs": [
    {
     "data": {
      "text/plain": [
       "[1, 2, 3, 4, 5, 6, [7, 8, 9, 10, 11, 12]]"
      ]
     },
     "execution_count": 33,
     "metadata": {},
     "output_type": "execute_result"
    }
   ],
   "source": [
    "a.append(b)\n",
    "a"
   ]
  },
  {
   "cell_type": "code",
   "execution_count": 37,
   "metadata": {},
   "outputs": [],
   "source": [
    "import pandas as pd"
   ]
  },
  {
   "cell_type": "code",
   "execution_count": 46,
   "metadata": {},
   "outputs": [],
   "source": [
    "d = {'col1': [1], 'col2': [2]}"
   ]
  },
  {
   "cell_type": "code",
   "execution_count": 57,
   "metadata": {},
   "outputs": [],
   "source": [
    "df = pd.DataFrame(d)"
   ]
  },
  {
   "cell_type": "code",
   "execution_count": 58,
   "metadata": {},
   "outputs": [
    {
     "data": {
      "text/html": [
       "<div>\n",
       "<style scoped>\n",
       "    .dataframe tbody tr th:only-of-type {\n",
       "        vertical-align: middle;\n",
       "    }\n",
       "\n",
       "    .dataframe tbody tr th {\n",
       "        vertical-align: top;\n",
       "    }\n",
       "\n",
       "    .dataframe thead th {\n",
       "        text-align: right;\n",
       "    }\n",
       "</style>\n",
       "<table border=\"1\" class=\"dataframe\">\n",
       "  <thead>\n",
       "    <tr style=\"text-align: right;\">\n",
       "      <th></th>\n",
       "      <th>col1</th>\n",
       "      <th>col2</th>\n",
       "    </tr>\n",
       "  </thead>\n",
       "  <tbody>\n",
       "    <tr>\n",
       "      <th>0</th>\n",
       "      <td>1</td>\n",
       "      <td>2</td>\n",
       "    </tr>\n",
       "  </tbody>\n",
       "</table>\n",
       "</div>"
      ],
      "text/plain": [
       "   col1  col2\n",
       "0     1     2"
      ]
     },
     "execution_count": 58,
     "metadata": {},
     "output_type": "execute_result"
    }
   ],
   "source": [
    "df"
   ]
  },
  {
   "cell_type": "code",
   "execution_count": 59,
   "metadata": {},
   "outputs": [
    {
     "data": {
      "text/html": [
       "<div>\n",
       "<style scoped>\n",
       "    .dataframe tbody tr th:only-of-type {\n",
       "        vertical-align: middle;\n",
       "    }\n",
       "\n",
       "    .dataframe tbody tr th {\n",
       "        vertical-align: top;\n",
       "    }\n",
       "\n",
       "    .dataframe thead th {\n",
       "        text-align: right;\n",
       "    }\n",
       "</style>\n",
       "<table border=\"1\" class=\"dataframe\">\n",
       "  <thead>\n",
       "    <tr style=\"text-align: right;\">\n",
       "      <th></th>\n",
       "      <th>col1</th>\n",
       "      <th>col2</th>\n",
       "    </tr>\n",
       "  </thead>\n",
       "  <tbody>\n",
       "    <tr>\n",
       "      <th>0</th>\n",
       "      <td>hi</td>\n",
       "      <td>3</td>\n",
       "    </tr>\n",
       "  </tbody>\n",
       "</table>\n",
       "</div>"
      ],
      "text/plain": [
       "  col1  col2\n",
       "0   hi     3"
      ]
     },
     "execution_count": 59,
     "metadata": {},
     "output_type": "execute_result"
    }
   ],
   "source": [
    "df.replace({1:'hi',2:3})"
   ]
  },
  {
   "cell_type": "code",
   "execution_count": 54,
   "metadata": {},
   "outputs": [
    {
     "data": {
      "text/html": [
       "<div>\n",
       "<style scoped>\n",
       "    .dataframe tbody tr th:only-of-type {\n",
       "        vertical-align: middle;\n",
       "    }\n",
       "\n",
       "    .dataframe tbody tr th {\n",
       "        vertical-align: top;\n",
       "    }\n",
       "\n",
       "    .dataframe thead th {\n",
       "        text-align: right;\n",
       "    }\n",
       "</style>\n",
       "<table border=\"1\" class=\"dataframe\">\n",
       "  <thead>\n",
       "    <tr style=\"text-align: right;\">\n",
       "      <th></th>\n",
       "      <th>col1</th>\n",
       "      <th>col2</th>\n",
       "    </tr>\n",
       "  </thead>\n",
       "  <tbody>\n",
       "    <tr>\n",
       "      <th>0</th>\n",
       "      <td>1</td>\n",
       "      <td>2</td>\n",
       "    </tr>\n",
       "  </tbody>\n",
       "</table>\n",
       "</div>"
      ],
      "text/plain": [
       "   col1  col2\n",
       "0     1     2"
      ]
     },
     "execution_count": 54,
     "metadata": {},
     "output_type": "execute_result"
    }
   ],
   "source": [
    "df"
   ]
  },
  {
   "cell_type": "code",
   "execution_count": 62,
   "metadata": {},
   "outputs": [
    {
     "name": "stdout",
     "output_type": "stream",
     "text": [
      "[5, 4, 3, 2, 1]\n",
      "[5, 4, 3, 2, 1]\n",
      "[4, 5, 3, 2, 1]\n",
      "[4, 5, 3, 2, 1]\n",
      "[4, 5, 3, 2, 1]\n",
      "[4, 3, 5, 2, 1]\n",
      "[3, 4, 5, 2, 1]\n",
      "[3, 4, 5, 2, 1]\n",
      "[3, 4, 5, 2, 1]\n",
      "[3, 4, 5, 2, 1]\n",
      "[3, 4, 2, 5, 1]\n",
      "[3, 2, 4, 5, 1]\n",
      "[2, 3, 4, 5, 1]\n",
      "[2, 3, 4, 5, 1]\n",
      "[2, 3, 4, 5, 1]\n",
      "[2, 3, 4, 5, 1]\n",
      "[2, 3, 4, 5, 1]\n",
      "[2, 3, 4, 1, 5]\n",
      "[2, 3, 1, 4, 5]\n",
      "[2, 1, 3, 4, 5]\n",
      "[1, 2, 3, 4, 5]\n",
      "[1, 2, 3, 4, 5]\n",
      "[1, 2, 3, 4, 5]\n",
      "[1, 2, 3, 4, 5]\n",
      "[1, 2, 3, 4, 5]\n",
      "[1, 2, 3, 4, 5]\n"
     ]
    }
   ],
   "source": [
    "numbers = [5,4,3,2,1]\n",
    "current = 0\n",
    "print(numbers)\n",
    "while current < len(numbers):\n",
    "    if current == 0:\n",
    "        current += 1\n",
    "        print(numbers)\n",
    "    if numbers[current] >= numbers[current-1]:\n",
    "        current += 1\n",
    "        print(numbers)\n",
    "    else:\n",
    "        temp = numbers[current-1]\n",
    "        numbers[current-1] = numbers[current]\n",
    "        numbers[current] = temp\n",
    "        current -= 1\n",
    "        print(numbers)"
   ]
  },
  {
   "cell_type": "code",
   "execution_count": 63,
   "metadata": {},
   "outputs": [],
   "source": [
    "def mystery(a,b):\n",
    "    if b==1:\n",
    "        return a\n",
    "    else:\n",
    "        return a*mystery(a,b-1)"
   ]
  },
  {
   "cell_type": "code",
   "execution_count": 64,
   "metadata": {},
   "outputs": [
    {
     "data": {
      "text/plain": [
       "4"
      ]
     },
     "execution_count": 64,
     "metadata": {},
     "output_type": "execute_result"
    }
   ],
   "source": [
    "mystery(2,2)"
   ]
  },
  {
   "cell_type": "code",
   "execution_count": 65,
   "metadata": {},
   "outputs": [
    {
     "data": {
      "text/plain": [
       "8"
      ]
     },
     "execution_count": 65,
     "metadata": {},
     "output_type": "execute_result"
    }
   ],
   "source": [
    "mystery(2,3)"
   ]
  },
  {
   "cell_type": "code",
   "execution_count": 66,
   "metadata": {},
   "outputs": [
    {
     "data": {
      "text/plain": [
       "9"
      ]
     },
     "execution_count": 66,
     "metadata": {},
     "output_type": "execute_result"
    }
   ],
   "source": [
    "mystery(3,2)"
   ]
  },
  {
   "cell_type": "code",
   "execution_count": 67,
   "metadata": {},
   "outputs": [
    {
     "data": {
      "text/plain": [
       "64"
      ]
     },
     "execution_count": 67,
     "metadata": {},
     "output_type": "execute_result"
    }
   ],
   "source": [
    "mystery(4,3)"
   ]
  },
  {
   "cell_type": "code",
   "execution_count": 92,
   "metadata": {},
   "outputs": [],
   "source": [
    "def odd_zeroes1(arr):\n",
    "    for i in arr:\n",
    "        if i % 2 == 1:\n",
    "            arr = i\n",
    "            \n",
    "def odd_zeroes2(arr):\n",
    "    for i in range(len(arr)):\n",
    "        if i%2==1:\n",
    "            arr[i]=0\n",
    "    \n",
    "def odd_zeroes3(arr):\n",
    "    for i in range(1, len(arr), 2):\n",
    "        arr[i] = 0\n",
    "        \n",
    "def odd_zeroes4(arr):\n",
    "    for i in range(len(arr)):\n",
    "        if arr[i] % 2 == 1:\n",
    "            arr[i] = 0\n",
    "            \n",
    "def odd_zeroes5(arr):\n",
    "    pos = len(arr) - 1\n",
    "    while pos > 0:\n",
    "        arr[pos] = 0\n",
    "        pos = pos - 2"
   ]
  },
  {
   "cell_type": "code",
   "execution_count": 80,
   "metadata": {},
   "outputs": [],
   "source": [
    "arr = [0,1,2,3,4,5,6,7,8,9]"
   ]
  },
  {
   "cell_type": "code",
   "execution_count": 93,
   "metadata": {},
   "outputs": [
    {
     "data": {
      "text/plain": [
       "([0, 1, 2, 3, 4, 5, 6, 7, 8, 9], [0, 1, 2, 3, 4, 5, 6, 7, 8])"
      ]
     },
     "execution_count": 93,
     "metadata": {},
     "output_type": "execute_result"
    }
   ],
   "source": [
    "arr = [0,1,2,3,4,5,6,7,8,9]\n",
    "arr2 = [0,1,2,3,4,5,6,7,8]\n",
    "odd_zeroes1(arr)\n",
    "odd_zeroes1(arr2)\n",
    "arr,arr2"
   ]
  },
  {
   "cell_type": "code",
   "execution_count": 94,
   "metadata": {},
   "outputs": [
    {
     "data": {
      "text/plain": [
       "([0, 0, 2, 0, 4, 0, 6, 0, 8, 0], [0, 0, 2, 0, 4, 0, 6, 0, 8])"
      ]
     },
     "execution_count": 94,
     "metadata": {},
     "output_type": "execute_result"
    }
   ],
   "source": [
    "arr = [0,1,2,3,4,5,6,7,8,9]\n",
    "arr2 = [1,2,3,4,5,6,7,8]\n",
    "odd_zeroes2(arr)\n",
    "odd_zeroes2(arr2)\n",
    "arr,arr2"
   ]
  },
  {
   "cell_type": "code",
   "execution_count": 98,
   "metadata": {},
   "outputs": [
    {
     "data": {
      "text/plain": [
       "([0, 0, 2, 0, 4, 0, 6, 0, 8, 0], [1, 0, 3, 0, 5, 0, 7, 0])"
      ]
     },
     "execution_count": 98,
     "metadata": {},
     "output_type": "execute_result"
    }
   ],
   "source": [
    "arr = [0,1,2,3,4,5,6,7,8,9]\n",
    "arr2 = [1,2,3,4,5,6,7,8]\n",
    "odd_zeroes3(arr)\n",
    "odd_zeroes3(arr2)\n",
    "arr,arr2"
   ]
  },
  {
   "cell_type": "code",
   "execution_count": 99,
   "metadata": {},
   "outputs": [
    {
     "data": {
      "text/plain": [
       "([0, 0, 2, 0, 4, 0, 6, 0, 8, 0], [0, 2, 0, 4, 0, 6, 0, 8])"
      ]
     },
     "execution_count": 99,
     "metadata": {},
     "output_type": "execute_result"
    }
   ],
   "source": [
    "arr = [0,1,2,3,4,5,6,7,8,9]\n",
    "arr2 = [1,2,3,4,5,6,7,8]\n",
    "odd_zeroes4(arr)\n",
    "odd_zeroes4(arr2)\n",
    "arr,arr2"
   ]
  },
  {
   "cell_type": "code",
   "execution_count": 97,
   "metadata": {},
   "outputs": [
    {
     "data": {
      "text/plain": [
       "([0, 0, 2, 0, 4, 0, 6, 0, 8, 0], [0, 1, 0, 3, 0, 5, 0, 7, 0])"
      ]
     },
     "execution_count": 97,
     "metadata": {},
     "output_type": "execute_result"
    }
   ],
   "source": [
    "arr = [0,1,2,3,4,5,6,7,8,9]\n",
    "arr2 = [0,1,2,3,4,5,6,7,8]\n",
    "odd_zeroes5(arr)\n",
    "odd_zeroes5(arr2)\n",
    "arr,arr2"
   ]
  },
  {
   "cell_type": "code",
   "execution_count": null,
   "metadata": {},
   "outputs": [],
   "source": [
    "Selected Answers:\n",
    "Incorrect \n",
    "def odd_zeroes(arr):\n",
    "  arr[i%2==1 for i in range(len(arr))] = 0\n",
    " Correct \n",
    "def odd_zeroes(arr):\n",
    "  for i in range(1, len(arr), 2):\n",
    "    arr[i] = 0\n",
    " Incorrect \n",
    "def odd_zeroes(arr):\n",
    "  for i in range(len(arr)):\n",
    "    if arr[i] % 2 == 1:\n",
    "      arr[i] = 0\n",
    "Answers:\n",
    " \n",
    "def odd_zeroes(arr):\n",
    "  arr = [i for i in arr if i % 2 == 1]\n",
    "def odd_zeroes(arr):\n",
    "  arr[i%2==1 for i in range(len(arr))] = 0\n",
    " Correct \n",
    "def odd_zeroes(arr):\n",
    "  for i in range(1, len(arr), 2):\n",
    "    arr[i] = 0\n",
    " \n",
    "def odd_zeroes(arr):\n",
    "  for i in range(len(arr)):\n",
    "    if arr[i] % 2 == 1:\n",
    "      arr[i] = 0\n",
    " \n",
    "def odd_zeroes(arr):\n",
    "  pos = len(arr) - 1\n",
    "  while pos > 0:\n",
    "    arr[pos] = 0\n",
    "    pos = pos - 2"
   ]
  }
 ],
 "metadata": {
  "kernelspec": {
   "display_name": "Python 3",
   "language": "python",
   "name": "python3"
  },
  "language_info": {
   "codemirror_mode": {
    "name": "ipython",
    "version": 3
   },
   "file_extension": ".py",
   "mimetype": "text/x-python",
   "name": "python",
   "nbconvert_exporter": "python",
   "pygments_lexer": "ipython3",
   "version": "3.7.6"
  }
 },
 "nbformat": 4,
 "nbformat_minor": 4
}
